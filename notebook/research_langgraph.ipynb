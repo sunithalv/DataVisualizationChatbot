{
 "cells": [
  {
   "cell_type": "code",
   "execution_count": 1,
   "metadata": {},
   "outputs": [],
   "source": [
    "from langchain_community.utilities import SQLDatabase\n",
    "from sqlalchemy import create_engine\n",
    "from langchain_core.tools import tool\n",
    "import os"
   ]
  },
  {
   "cell_type": "code",
   "execution_count": 2,
   "metadata": {},
   "outputs": [
    {
     "name": "stderr",
     "output_type": "stream",
     "text": [
      "c:\\Users\\sunit\\OneDrive\\Desktop\\MyProjects\\LLM_Projects\\DataVisualizationChatbot\\venv\\lib\\site-packages\\google\\cloud\\bigquery\\client.py:589: UserWarning: Cannot create BigQuery Storage client, the dependency google-cloud-bigquery-storage is not installed.\n",
      "  warnings.warn(\n"
     ]
    }
   ],
   "source": [
    "project=os.getenv('GOOGLE_PROJECT')\n",
    "dataset=os.getenv('BIGQUERY_DATASET')\n",
    "service_account_file='../credentials.json'\n",
    "sql_url = (\n",
    "    f\"bigquery://{project}/{dataset}?credentials_path={service_account_file}\"\n",
    ")\n",
    "db=SQLDatabase.from_uri(sql_url)"
   ]
  },
  {
   "cell_type": "code",
   "execution_count": 3,
   "metadata": {},
   "outputs": [
    {
     "data": {
      "text/plain": [
       "\"[(4, 'Nike', 'Blue', 'L', 37, 14), (18, 'Nike', 'Blue', 'XS', 32, 46), (28, 'Nike', 'Blue', 'S', 14, 74), (48, 'Nike', 'Blue', 'M', 10, 34)]\""
      ]
     },
     "execution_count": 3,
     "metadata": {},
     "output_type": "execute_result"
    }
   ],
   "source": [
    "#To run a query in the db\n",
    "#db.run(\"select * from t_shirts where brand='nike' and color='Blue';\")\n",
    "db.run(f\"SELECT * FROM {project}.{dataset}.t_shirts  WHERE brand = 'Nike' AND color = 'Blue'\")\n"
   ]
  },
  {
   "cell_type": "markdown",
   "metadata": {},
   "source": [
    "### Using Chains"
   ]
  },
  {
   "cell_type": "code",
   "execution_count": 4,
   "metadata": {},
   "outputs": [],
   "source": [
    "from typing_extensions import TypedDict,Annotated\n",
    "from langgraph.graph.message import add_messages\n",
    "\n",
    "\n",
    "class State(TypedDict):\n",
    "    question: str\n",
    "    query: str\n",
    "    result: str\n",
    "    answer: str"
   ]
  },
  {
   "cell_type": "code",
   "execution_count": 5,
   "metadata": {},
   "outputs": [],
   "source": [
    "#Convert question to sql query\n",
    "import os\n",
    "from dotenv import load_dotenv\n",
    "\n",
    "#os.environ[\"GROQ_API_KEY\"] = os.getenv('GROQ_API_KEY')\n",
    "\n",
    "# from langchain_groq import ChatGroq\n",
    "\n",
    "# llm = ChatGroq(model=\"llama3-8b-8192\")\n",
    "\n",
    "from langchain_openai import ChatOpenAI\n",
    "\n",
    "llm = ChatOpenAI(model=\"gpt-4o-mini\")\n",
    "\n",
    "# from langchain_ollama import ChatOllama\n",
    "\n",
    "# llm=ChatOllama(model='qwen2.5')\n",
    "\n",
    "\n"
   ]
  },
  {
   "cell_type": "code",
   "execution_count": 6,
   "metadata": {},
   "outputs": [
    {
     "name": "stderr",
     "output_type": "stream",
     "text": [
      "c:\\Users\\sunit\\OneDrive\\Desktop\\MyProjects\\LLM_Projects\\DataVisualizationChatbot\\venv\\lib\\site-packages\\langsmith\\client.py:261: LangSmithMissingAPIKeyWarning: API key must be provided when using hosted LangSmith API\n",
      "  warnings.warn(\n"
     ]
    },
    {
     "name": "stdout",
     "output_type": "stream",
     "text": [
      "================================\u001b[1m System Message \u001b[0m================================\n",
      "\n",
      "Given an input question, create a syntactically correct \u001b[33;1m\u001b[1;3m{dialect}\u001b[0m query to run to help find the answer. Unless the user specifies in his question a specific number of examples they wish to obtain, always limit your query to at most \u001b[33;1m\u001b[1;3m{top_k}\u001b[0m results. You can order the results by a relevant column to return the most interesting examples in the database.\n",
      "\n",
      "Never query for all the columns from a specific table, only ask for a the few relevant columns given the question.\n",
      "\n",
      "Pay attention to use only the column names that you can see in the schema description. Be careful to not query for columns that do not exist. Also, pay attention to which column is in which table.\n",
      "\n",
      "Only use the following tables:\n",
      "\u001b[33;1m\u001b[1;3m{table_info}\u001b[0m\n",
      "\n",
      "Question: \u001b[33;1m\u001b[1;3m{input}\u001b[0m\n"
     ]
    }
   ],
   "source": [
    "#pull a prompt from the Prompt Hub to instruct the model.\n",
    "from langchain import hub\n",
    "\n",
    "query_prompt_template = hub.pull(\"langchain-ai/sql-query-system-prompt\")\n",
    "\n",
    "assert len(query_prompt_template.messages) == 1\n",
    "query_prompt_template.messages[0].pretty_print()"
   ]
  },
  {
   "cell_type": "code",
   "execution_count": 7,
   "metadata": {},
   "outputs": [
    {
     "data": {
      "text/plain": [
       "'Given an input question, create a syntactically correct {dialect} query to run to help find the answer. Unless the user specifies in his question a specific number of examples they wish to obtain, always limit your query to at most {top_k} results. You can order the results by a relevant column to return the most interesting examples in the database.\\n\\nNever query for all the columns from a specific table, only ask for a the few relevant columns given the question.\\n\\nPay attention to use only the column names that you can see in the schema description. Be careful to not query for columns that do not exist. Also, pay attention to which column is in which table.\\n\\nOnly use the following tables:\\n{table_info}\\n\\nQuestion: {input}'"
      ]
     },
     "execution_count": 7,
     "metadata": {},
     "output_type": "execute_result"
    }
   ],
   "source": [
    "current_template=query_prompt_template.messages[0].prompt.template\n",
    "current_template"
   ]
  },
  {
   "cell_type": "code",
   "execution_count": 8,
   "metadata": {},
   "outputs": [],
   "source": [
    "# Modifying existing template to add specific instructions for a column\n",
    "new_template = f\"\"\"\n",
    "{current_template}\n",
    "\n",
    "Additional Instructions:\n",
    "- For getting count of t shirts always refer column 'stock_quantity' of 't_shirts' table. If multiple rows are returned calculate sum of column 'stock_quantity' for rows instead of counting the rows returned.\n",
    "- For getting the price of t shirts always follow the following steps:\n",
    "1. The 'price' column of 't_shirts' table indicates the base price of one t shirt only.\n",
    "2. Next,Always check in the 'discounts' table if any entry exists for given t shirt id.\n",
    "3. If entry exists 'pct_discount' column in that row refers to the discount percentage for a given t shirt id.\n",
    "   Calculate discounted price as price*(1-(pct_discount/100)).Else ignore the 'discounts' table.\n",
    "\n",
    "\"\"\""
   ]
  },
  {
   "cell_type": "code",
   "execution_count": 9,
   "metadata": {},
   "outputs": [
    {
     "name": "stderr",
     "output_type": "stream",
     "text": [
      "C:\\Users\\sunit\\AppData\\Local\\Temp\\ipykernel_20012\\1182658099.py:5: PydanticDeprecatedSince20: The `copy` method is deprecated; use `model_copy` instead. See the docstring of `BaseModel.copy` for details about how to handle `include` and `exclude`. Deprecated in Pydantic V2.0 to be removed in V3.0. See Pydantic V2 Migration Guide at https://errors.pydantic.dev/2.10/migration/\n",
      "  prompt=query_prompt_template.messages[0].prompt.copy(update={\"template\": new_template})\n"
     ]
    }
   ],
   "source": [
    "# Create a new SystemMessagePromptTemplate with the updated template\n",
    "from langchain.prompts import SystemMessagePromptTemplate\n",
    "\n",
    "updated_message = SystemMessagePromptTemplate(\n",
    "    prompt=query_prompt_template.messages[0].prompt.copy(update={\"template\": new_template})\n",
    ")\n",
    "\n",
    "# Replace the old message with the updated one\n",
    "query_prompt_template.messages[0] = updated_message"
   ]
  },
  {
   "cell_type": "code",
   "execution_count": 10,
   "metadata": {},
   "outputs": [],
   "source": [
    "from typing_extensions import Annotated,Literal\n",
    "\n",
    "#A TypedDict that specifies the expected structure of the output.\n",
    "#query: A field of type str, annotated to indicate that it should contain a syntactically valid SQL query.\n",
    "class QueryOutput(TypedDict):\n",
    "    \"\"\"Generated SQL query.\"\"\"\n",
    "\n",
    "    query: Annotated[str, ..., \"Syntactically valid SQL query.\"]\n",
    "\n",
    "#generate an SQL query by interacting with an LLM and return it in a structured format\n",
    "def write_query(state: State):\n",
    "    \"\"\"Generate SQL query to fetch information.\"\"\"\n",
    "    prompt = query_prompt_template.invoke(\n",
    "        {\n",
    "            \"dialect\": db.dialect,\n",
    "            \"top_k\": 10,\n",
    "            \"table_info\": db.get_table_info(),\n",
    "            \"input\": state[\"question\"],\n",
    "        }\n",
    "    )\n",
    "    #Configures the LLM to return its results as a QueryOutput structure, ensuring compliance with the expected format\n",
    "    structured_llm = llm.with_structured_output(QueryOutput)\n",
    "    result = structured_llm.invoke(prompt)\n",
    "    return {\"query\": result[\"query\"]}"
   ]
  },
  {
   "cell_type": "code",
   "execution_count": 11,
   "metadata": {},
   "outputs": [
    {
     "data": {
      "text/plain": [
       "{'query': \"SELECT SUM(stock_quantity) AS total_stock\\nFROM `t_shirts`\\nWHERE color = 'Blue' AND brand = 'Nike'\"}"
      ]
     },
     "execution_count": 11,
     "metadata": {},
     "output_type": "execute_result"
    }
   ],
   "source": [
    "query=write_query({\"question\": \"How many blue nike t shirts are there?\"})\n",
    "query"
   ]
  },
  {
   "cell_type": "code",
   "execution_count": 12,
   "metadata": {},
   "outputs": [],
   "source": [
    "#Execute Query\n",
    "from langchain_community.tools import QuerySQLDataBaseTool\n",
    "\n",
    "\n",
    "def execute_query(state: State):\n",
    "    \"\"\"Execute SQL query.\"\"\"\n",
    "    execute_query_tool = QuerySQLDataBaseTool(db=db)\n",
    "    return {\"result\": execute_query_tool.invoke(state[\"query\"])}"
   ]
  },
  {
   "cell_type": "code",
   "execution_count": 13,
   "metadata": {},
   "outputs": [
    {
     "name": "stderr",
     "output_type": "stream",
     "text": [
      "C:\\Users\\sunit\\AppData\\Local\\Temp\\ipykernel_20012\\1460524555.py:7: LangChainDeprecationWarning: The class `QuerySQLDataBaseTool` was deprecated in LangChain 0.3.12 and will be removed in 1.0. An updated version of the class exists in the :class:`~langchain-community package and should be used instead. To use it run `pip install -U :class:`~langchain-community` and import as `from :class:`~langchain_community.tools import QuerySQLDatabaseTool``.\n",
      "  execute_query_tool = QuerySQLDataBaseTool(db=db)\n"
     ]
    },
    {
     "data": {
      "text/plain": [
       "{'result': '[(168,)]'}"
      ]
     },
     "execution_count": 13,
     "metadata": {},
     "output_type": "execute_result"
    }
   ],
   "source": [
    "execute_query(query)"
   ]
  },
  {
   "cell_type": "code",
   "execution_count": 14,
   "metadata": {},
   "outputs": [],
   "source": [
    "#Generate answer\n",
    "def generate_answer(state: State):\n",
    "    \"\"\"Answer question using retrieved information as context.\n",
    "    Returns: The answer based on given query in plain english\n",
    "    \"\"\"\n",
    "    prompt = (\n",
    "        \"Given the following user question, corresponding SQL query, \"\n",
    "        \"and SQL result, answer the user question.\\n\\n\"\n",
    "        f'Question: {state[\"question\"]}\\n'\n",
    "        f'SQL Query: {state[\"query\"]}\\n'\n",
    "        f'SQL Result: {state[\"result\"]}'\n",
    "    )\n",
    "    response = llm.invoke(prompt)\n",
    "    return {\"answer\": response.content}"
   ]
  },
  {
   "cell_type": "code",
   "execution_count": 15,
   "metadata": {},
   "outputs": [],
   "source": [
    "#Generate visualization\n",
    "def get_visualization(state: State):\n",
    "    \"\"\"Returns recommended visualization or charts using retrieved information as context.\"\"\"\n",
    "    prompt = (\n",
    "        \"Given the following user question, corresponding SQL query, \"\n",
    "        \"and SQL result, recommend a visualization chart like bar chart,pie chart,scatter plot etc.\\n\\n\"\n",
    "        f'Question: {state[\"question\"]}\\n'\n",
    "        f'SQL Query: {state[\"query\"]}\\n'\n",
    "        f'SQL Result: {state[\"result\"]}'\n",
    "    )\n",
    "    response = llm.invoke(prompt)\n",
    "    return {\"answer\": response.content}"
   ]
  },
  {
   "cell_type": "code",
   "execution_count": 16,
   "metadata": {},
   "outputs": [],
   "source": [
    "def get_flow(state):\n",
    "    \"\"\"\n",
    "    Determines whether to go to 'generate_answer' or 'get_visualization'\n",
    "    based on the user query stored in the state.\n",
    "\n",
    "    Args:\n",
    "        state (dict): The current state containing the user query.\n",
    "\n",
    "    Returns:\n",
    "        str: The next node ('generate_answer' or 'get_visualization').\n",
    "    \"\"\"\n",
    "    # Extract the user query from the state\n",
    "    user_query = state.get(\"question\", \"\")\n",
    "\n",
    "    # Example condition: Check for keywords in the query\n",
    "    visualization_keywords = [\"chart\", \"graph\", \"visualize\", \"plot\", \"diagram\"]\n",
    "\n",
    "    # Check if the query contains visualization-related keywords\n",
    "    if any(keyword in user_query.lower() for keyword in visualization_keywords):\n",
    "        return \"get_visualization\"\n",
    "\n",
    "    # Default flow\n",
    "    return \"generate_answer\"\n"
   ]
  },
  {
   "cell_type": "code",
   "execution_count": 18,
   "metadata": {},
   "outputs": [],
   "source": [
    "#Using langgraph for the same\n",
    "from langgraph.graph import START, StateGraph,MessagesState,END"
   ]
  },
  {
   "cell_type": "code",
   "execution_count": 19,
   "metadata": {},
   "outputs": [],
   "source": [
    "\n",
    "graph_builder = StateGraph(State).add_sequence(\n",
    "    [write_query, execute_query]\n",
    ")\n",
    "graph_builder.add_edge(START, \"write_query\")\n",
    "graph_builder.add_conditional_edges(\n",
    "    \"execute_query\",\n",
    "    get_flow\n",
    ")\n",
    "graph_builder.add_node(\"generate_answer\",generate_answer)\n",
    "graph_builder.add_node(\"get_visualization\",get_visualization)\n",
    "graph_builder.add_edge(\"generate_answer\", END)\n",
    "graph_builder.add_edge(\"get_visualization\", END)\n",
    "graph = graph_builder.compile()"
   ]
  },
  {
   "cell_type": "code",
   "execution_count": 20,
   "metadata": {},
   "outputs": [
    {
     "data": {
      "image/png": "[encoded data removed]",
      "text/plain": [
       "<IPython.core.display.Image object>"
      ]
     },
     "metadata": {},
     "output_type": "display_data"
    }
   ],
   "source": [
    "from IPython.display import Image, display\n",
    "\n",
    "display(Image(graph.get_graph().draw_mermaid_png()))"
   ]
  },
  {
   "cell_type": "code",
   "execution_count": 22,
   "metadata": {},
   "outputs": [
    {
     "name": "stdout",
     "output_type": "stream",
     "text": [
      "{'write_query': {'query': \"SELECT SUM(stock_quantity) AS total_stock\\nFROM `t_shirts`\\nWHERE brand = 'Nike' AND size = 'XS' AND color = 'White'\"}}\n",
      "{'execute_query': {'result': '[(38,)]'}}\n",
      "{'generate_answer': {'answer': 'You have 38 t-shirts left for Nike in XS size and white color.'}}\n"
     ]
    }
   ],
   "source": [
    "for step in graph.stream(\n",
    "    {\"question\": \"How many t-shirts do we have left for Nike in XS size and white color?\"}, stream_mode=\"updates\"\n",
    "):\n",
    "    print(step)"
   ]
  },
  {
   "cell_type": "code",
   "execution_count": 23,
   "metadata": {},
   "outputs": [
    {
     "name": "stdout",
     "output_type": "stream",
     "text": [
      "{'write_query': {'query': \"SELECT t.brand, t.color, t.size, SUM(t.stock_quantity) AS total_stock_quantity, AVG(t.price * (1 - IFNULL(d.pct_discount / 100, 0))) AS avg_discounted_price\\nFROM t_shirts t\\nLEFT JOIN discounts d ON t.t_shirt_id = d.t_shirt_id\\nWHERE t.brand = 'Nike'\\nGROUP BY t.brand, t.color, t.size\\nORDER BY total_stock_quantity DESC\\nLIMIT 10;\"}}\n",
      "{'execute_query': {'result': \"[('Nike', 'Black', 'XS', 100, 47.0), ('Nike', 'Red', 'XL', 100, 16.0), ('Nike', 'White', 'L', 78, 27.3), ('Nike', 'Blue', 'S', 74, 14.0), ('Nike', 'White', 'XL', 69, 13.0), ('Nike', 'Black', 'M', 66, 44.0), ('Nike', 'Black', 'S', 60, 37.0), ('Nike', 'Black', 'L', 60, 41.0), ('Nike', 'Red', 'M', 55, 45.0), ('Nike', 'Blue', 'XS', 46, 32.0)]\"}}\n",
      "{'get_visualization': {'answer': \"To visualize the distribution of stock quantities for Nike t-shirts across different sizes and colors, a **bar chart** would be the most effective choice. \\n\\n### Reasons for Choosing a Bar Chart:\\n1. **Comparison**: A bar chart allows for easy comparison of total stock quantities across different sizes and colors of Nike t-shirts, making it clear which combinations are the most or least abundant.\\n2. **Categorical Data**: Since the data involves categorical variables (color and size), a bar chart is well-suited to represent this type of information.\\n3. **Clarity**: Each size-color combination can be represented as a separate bar, which helps viewers quickly grasp the distribution of stock quantities.\\n\\n### Suggested Implementation:\\n- **X-axis**: Combination of color and size (e.g., 'Black XS', 'Red XL', etc.)\\n- **Y-axis**: Total stock quantity\\n- **Bars**: Each bar represents the total stock quantity for a specific size and color combination.\\n\\nThis visualization will effectively communicate the distribution and help identify trends or patterns in stock levels for different Nike t-shirt variants.\"}}\n"
     ]
    }
   ],
   "source": [
    "for step in graph.stream(\n",
    "    {\"question\": \"Which is the best plot or chart we can user for showing the distribution for Nike for different size and colors?\"}, stream_mode=\"updates\"\n",
    "):\n",
    "    print(step)"
   ]
  },
  {
   "cell_type": "code",
   "execution_count": 25,
   "metadata": {},
   "outputs": [
    {
     "name": "stdout",
     "output_type": "stream",
     "text": [
      "{'write_query': {'query': \"SELECT t_shirts.t_shirt_id, t_shirts.price * (1 - COALESCE(discounts.pct_discount / 100.0, 0)) AS discounted_price FROM t_shirts LEFT JOIN discounts ON t_shirts.t_shirt_id = discounts.t_shirt_id WHERE t_shirts.color = 'White' AND t_shirts.size = 'XS' AND t_shirts.brand = 'Nike' LIMIT 10\"}}\n",
      "{'execute_query': {'result': \"[(68, Decimal('24.000000'))]\"}}\n",
      "{'generate_answer': {'answer': 'Based on the SQL query and result provided, we can determine that a single extra small (XS) white Nike t-shirt has a discounted price of $24.00.\\n\\nTo find the total price for 4 such t-shirts, simply multiply this price by 4:\\n\\n\\\\[ \\\\text{Total Price} = 24.00 \\\\times 4 = 96.00 \\\\]\\n\\nTherefore, the total price for 4 extra small white Nike t-shirts is $96.00.'}}\n"
     ]
    }
   ],
   "source": [
    "for step in graph.stream(\n",
    "    {\"question\": \"What is the total price of 4 extra small white Nike t-shirts?\"}, stream_mode=\"updates\"\n",
    "):\n",
    "    print(step)"
   ]
  },
  {
   "cell_type": "code",
   "execution_count": 26,
   "metadata": {},
   "outputs": [
    {
     "name": "stdout",
     "output_type": "stream",
     "text": [
      "{'write_query': {'query': \"SELECT t_shirts.price * (1 - IFNULL(discounts.pct_discount / 100, 0)) AS discounted_price FROM t_shirts JOIN discounts ON t_shirts.t_shirt_id = discounts.t_shirt_id WHERE t_shirts.brand = 'Van Huesen' AND t_shirts.color = 'Red' AND t_shirts.size = 'M' LIMIT 10;\"}}\n",
      "{'execute_query': {'result': \"[(Decimal('20.000000'),)]\"}}\n",
      "{'generate_answer': {'answer': 'The price of a medium red Van Huesen t-shirt, after applying any discounts, is $20.00.'}}\n"
     ]
    }
   ],
   "source": [
    "for step in graph.stream(\n",
    "    {\"question\": \"What is the price of 5 medium red Van Huesen t-shirts?\"}, stream_mode=\"updates\"\n",
    "):\n",
    "    print(step)"
   ]
  },
  {
   "cell_type": "code",
   "execution_count": 143,
   "metadata": {},
   "outputs": [
    {
     "name": "stdout",
     "output_type": "stream",
     "text": [
      "{'write_query': {'query': \"SELECT SUM(CASE \\n            WHEN d.pct_discount IS NOT NULL THEN t.price * (1 - (d.pct_discount / 100)) \\n            ELSE t.price \\n        END * t.stock_quantity) AS total_inventory_value\\nFROM `t_shirts` t \\nLEFT JOIN `discounts` d ON t.t_shirt_id = d.t_shirt_id \\nWHERE t.size = 'S'\"}}\n",
      "{'execute_query': {'result': '[(18018.0,)]'}}\n",
      "{'generate_answer': {'answer': 'The total price of the inventory for all S-size t-shirts is $18,018.00.'}}\n"
     ]
    }
   ],
   "source": [
    "for step in graph.stream(\n",
    "    {\"question\": \"How much is the total price of the inventory for all S-size t-shirts?\"}, stream_mode=\"updates\"\n",
    "):\n",
    "    print(step)"
   ]
  },
  {
   "cell_type": "code",
   "execution_count": 144,
   "metadata": {},
   "outputs": [
    {
     "name": "stdout",
     "output_type": "stream",
     "text": [
      "{'write_query': {'query': \"SELECT SUM(CASE WHEN d.pct_discount IS NOT NULL THEN t.price * (1 - (d.pct_discount / 100)) ELSE t.price END * t.stock_quantity) AS total_revenue\\nFROM `t_shirts` t\\nLEFT JOIN `discounts` d ON t.t_shirt_id = d.t_shirt_id\\nWHERE t.brand = 'Levi'\\nLIMIT 10;\"}}\n",
      "{'execute_query': {'result': '[(14176.800000000001,)]'}}\n",
      "{'generate_answer': {'answer': 'The revenue our store will generate from selling all the Levi’s T-shirts today, after applying discounts, is approximately **$14,176.80**.'}}\n"
     ]
    }
   ],
   "source": [
    "for step in graph.stream(\n",
    "    {\"question\": \"If we have to sell all the Levi’s T-shirts today with discounts applied. How much revenue  our store will generate (post discounts)?\"}, stream_mode=\"updates\"\n",
    "):\n",
    "    print(step)"
   ]
  },
  {
   "cell_type": "code",
   "execution_count": 145,
   "metadata": {},
   "outputs": [
    {
     "name": "stdout",
     "output_type": "stream",
     "text": [
      "{'write_query': {'query': \"SELECT SUM(price * stock_quantity) AS total_revenue\\nFROM t_shirts\\nWHERE brand = 'Levi'\"}}\n",
      "{'execute_query': {'result': '[(14731,)]'}}\n",
      "{'generate_answer': {'answer': \"The total revenue our store will generate from selling all the Levi's T-shirts today, without any discount, is $14,731.\"}}\n"
     ]
    }
   ],
   "source": [
    "for step in graph.stream(\n",
    "    {\"question\": \"If we have to sell all the Levi’s T-shirts today. How much revenue our store will generate without discount?\"}, stream_mode=\"updates\"\n",
    "):\n",
    "    print(step)"
   ]
  },
  {
   "cell_type": "code",
   "execution_count": 146,
   "metadata": {},
   "outputs": [
    {
     "name": "stdout",
     "output_type": "stream",
     "text": [
      "{'write_query': {'query': \"SELECT SUM(stock_quantity) AS total_stock\\nFROM `t_shirts`\\nWHERE brand = 'Levi' AND color = 'White'\"}}\n",
      "{'execute_query': {'result': '[(158,)]'}}\n",
      "{'generate_answer': {'answer': \"You have a total of 158 white color Levi's shirts.\"}}\n"
     ]
    }
   ],
   "source": [
    "for step in graph.stream(\n",
    "    {\"question\": \"How many white color Levi's shirt I have?\"}, stream_mode=\"updates\"\n",
    "):\n",
    "    print(step)"
   ]
  },
  {
   "cell_type": "markdown",
   "metadata": {},
   "source": [
    "### human-in-the-loop: we can interrupt our application before sensitive steps (such as the execution of a SQL query) for human review. This is enabled by LangGraph's persistence layer, which saves run progress to your storage of choice. Below, we specify storage in-memory:"
   ]
  },
  {
   "cell_type": "code",
   "execution_count": 20,
   "metadata": {},
   "outputs": [],
   "source": [
    "from langgraph.checkpoint.memory import MemorySaver\n",
    "\n",
    "memory = MemorySaver()\n",
    "graph = graph_builder.compile(checkpointer=memory, interrupt_before=[\"execute_query\"])\n",
    "\n",
    "# Now that we're using persistence, we need to specify a thread ID\n",
    "# so that we can continue the run after review.\n",
    "config = {\"configurable\": {\"thread_id\": \"1\"}}"
   ]
  },
  {
   "cell_type": "code",
   "execution_count": 21,
   "metadata": {},
   "outputs": [
    {
     "data": {
      "image/png": "[encoded data removed]",
      "text/plain": [
       "<IPython.core.display.Image object>"
      ]
     },
     "metadata": {},
     "output_type": "display_data"
    }
   ],
   "source": [
    "display(Image(graph.get_graph().draw_mermaid_png()))"
   ]
  },
  {
   "cell_type": "code",
   "execution_count": 23,
   "metadata": {},
   "outputs": [
    {
     "name": "stdout",
     "output_type": "stream",
     "text": [
      "{'write_query': {'query': \"SELECT t_shirts.brand, t_shirts.color, t_shirts.size, t_shirts.price, SUM(discounts.pct_discount) AS discount FROM t_shirts JOIN discounts ON t_shirts.t_shirt_id = discounts.t_shirt_id WHERE t_shirts.color = 'Blue' AND t_shirts.size = 'L' AND t_shirts.brand = 'Nike' GROUP BY t_shirts.brand, t_shirts.color, t_shirts.size, t_shirts.price LIMIT 10\"}}\n",
      "{'__interrupt__': ()}\n",
      "{'execute_query': {'result': \"[('Nike', 'Blue', 'L', 37, Decimal('5.00'))]\"}}\n",
      "{'generate_answer': {'answer': \"The user question is: What is the price of 5 large blue Nike t shirts?\\n\\nThe SQL query provided is to get the price of large blue Nike t-shirts, but it doesn't specifically ask for the price of 5 of them. The result it provides is the price of one large blue Nike t-shirt with a 5% discount.\\n\\nTo find the price of 5 large blue Nike t-shirts, we need to multiply the price by 5. The price is $37 (without discount) and there is a 5% discount, so the price is:\\n\\n$37 - (5% of $37) = $37 - $1.85 = $35.15\\n\\nSo, the price of 5 large blue Nike t-shirts is $35.15 * 5 = $175.75\"}}\n"
     ]
    }
   ],
   "source": [
    "for step in graph.stream(\n",
    "    {\"question\": \"What is the price of 5 large blue Nike t shirts?\"},\n",
    "    config,\n",
    "    stream_mode=\"updates\",\n",
    "):\n",
    "    print(step)\n",
    "\n",
    "try:\n",
    "    user_approval = input(\"Do you want to go to execute query? (yes/no): \")\n",
    "except Exception:\n",
    "    user_approval = \"no\"\n",
    "\n",
    "if user_approval.lower() == \"yes\":\n",
    "    # If approved, continue the graph execution\n",
    "    for step in graph.stream(None, config, stream_mode=\"updates\"):\n",
    "        print(step)\n",
    "else:\n",
    "    print(\"Operation cancelled by user.\")\n"
   ]
  },
  {
   "cell_type": "code",
   "execution_count": null,
   "metadata": {},
   "outputs": [],
   "source": []
  }
 ],
 "metadata": {
  "kernelspec": {
   "display_name": "venv",
   "language": "python",
   "name": "python3"
  },
  "language_info": {
   "codemirror_mode": {
    "name": "ipython",
    "version": 3
   },
   "file_extension": ".py",
   "mimetype": "text/x-python",
   "name": "python",
   "nbconvert_exporter": "python",
   "pygments_lexer": "ipython3",
   "version": "3.10.0"
  }
 },
 "nbformat": 4,
 "nbformat_minor": 2
}
